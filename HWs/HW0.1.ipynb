{
 "cells": [
  {
   "cell_type": "markdown",
   "metadata": {},
   "source": [
    "# Тестовое задание #1"
   ]
  },
  {
   "cell_type": "markdown",
   "metadata": {},
   "source": [
    "Пусть популяция является станартной моделью Райта-Фишера. То есть\n",
    "- Количество особей = $N$\n",
    "- Все особи дилоидны\n",
    "- Нет мутаций, миграций и других эволюционных процессов\n",
    "- Скрещивание случайное и независимое"
   ]
  },
  {
   "cell_type": "markdown",
   "metadata": {},
   "source": [
    "**Задание**. Создать 2 поколения, где $N=100$. Найти:\n",
    "- Вероятность, что особи имеют одного родителя?\n",
    "- Вероятность, что у особи общая \"бабушка\" (предок на два поколения выше), но мать разная?"
   ]
  },
  {
   "cell_type": "code",
   "execution_count": 1,
   "metadata": {},
   "outputs": [],
   "source": [
    "import numpy as np"
   ]
  },
  {
   "cell_type": "code",
   "execution_count": 40,
   "metadata": {},
   "outputs": [],
   "source": [
    "N = 100\n",
    "SAMLING_NUM = 100_000\n",
    "SEED = 42"
   ]
  },
  {
   "cell_type": "markdown",
   "metadata": {},
   "source": [
    ">**Вероятность, что особи имеют одного родителя**"
   ]
  },
  {
   "cell_type": "code",
   "execution_count": 36,
   "metadata": {},
   "outputs": [
    {
     "name": "stdout",
     "output_type": "stream",
     "text": [
      "Probability that two random children have identical parent: 0.0107\n"
     ]
    }
   ],
   "source": [
    "np.random.seed(SEED)\n",
    "\n",
    "success = 0\n",
    "\n",
    "for _ in range(SAMLING_NUM):\n",
    "    parent1 = np.random.randint(N)\n",
    "    parent2 = np.random.randint(N)\n",
    "\n",
    "    success += parent1==parent2\n",
    "\n",
    "print(f\"Probability that two random children have identical parent: {(success / SAMLING_NUM):.4f}\")"
   ]
  },
  {
   "cell_type": "markdown",
   "metadata": {},
   "source": [
    ">**Вероятность, что особи имеют одну бабушку/дедушку** (при разных родителях)"
   ]
  },
  {
   "cell_type": "code",
   "execution_count": 37,
   "metadata": {},
   "outputs": [
    {
     "name": "stdout",
     "output_type": "stream",
     "text": [
      "Probability that two random children have identical grandparent: 0.0106\n"
     ]
    }
   ],
   "source": [
    "np.random.seed(SEED)\n",
    "\n",
    "success = 0\n",
    "\n",
    "for _ in range(SAMLING_NUM):\n",
    "    parents = [np.random.randint(N) for _ in range(4)]\n",
    "    success += (parents[0] != parents[1]) & (parents[2] == parents[3])\n",
    "\n",
    "print(f\"Probability that two random children have identical grandparent: {(success / SAMLING_NUM):.4f}\")"
   ]
  },
  {
   "cell_type": "code",
   "execution_count": null,
   "metadata": {},
   "outputs": [],
   "source": []
  }
 ],
 "metadata": {
  "kernelspec": {
   "display_name": "base",
   "language": "python",
   "name": "python3"
  },
  "language_info": {
   "codemirror_mode": {
    "name": "ipython",
    "version": 3
   },
   "file_extension": ".py",
   "mimetype": "text/x-python",
   "name": "python",
   "nbconvert_exporter": "python",
   "pygments_lexer": "ipython3",
   "version": "3.10.15"
  }
 },
 "nbformat": 4,
 "nbformat_minor": 2
}
