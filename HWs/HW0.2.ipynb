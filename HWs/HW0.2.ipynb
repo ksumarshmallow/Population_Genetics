{
 "cells": [
  {
   "cell_type": "markdown",
   "metadata": {},
   "source": [
    "# Тестовое задание #2"
   ]
  },
  {
   "cell_type": "markdown",
   "metadata": {},
   "source": [
    "Пусть популяция является станартной моделью Райта-Фишера. То есть\n",
    "- Количество особей = $N$\n",
    "- Все особи дилоидны\n",
    "- Нет мутаций, миграций и других эволюционных процессов\n",
    "- Скрещивание случайное и независимое"
   ]
  },
  {
   "cell_type": "markdown",
   "metadata": {},
   "source": [
    "**Задание**. Пусть в модели Райта-Фишера есть два аллеля - $A$ и $a$. Прошло $n$ поколений. Методом Монте-Карло установить, в каком проценте случаев происходит фиксация аллеля $A$. "
   ]
  },
  {
   "cell_type": "code",
   "execution_count": 1,
   "metadata": {},
   "outputs": [],
   "source": [
    "import numpy as np\n",
    "from tqdm import tqdm\n",
    "import matplotlib.pyplot as plt\n",
    "import seaborn as sns\n",
    "\n",
    "sns.set_theme('notebook')"
   ]
  },
  {
   "cell_type": "code",
   "execution_count": 39,
   "metadata": {},
   "outputs": [
    {
     "data": {
      "text/plain": [
       "array([[-5.01,  0.07],\n",
       "       [-2.21, -0.37],\n",
       "       [-0.59,  0.81],\n",
       "       [ 0.59, -0.81],\n",
       "       [ 2.21,  0.37],\n",
       "       [ 5.01, -0.07]])"
      ]
     },
     "execution_count": 39,
     "metadata": {},
     "output_type": "execute_result"
    }
   ],
   "source": [
    "X = np.array([[-3, -1, -1, 1, 1, 3], [-4, -2, 0, 0, 2, 4]])\n",
    "V = np.array([[0.59, -0.81], \n",
    "              [0.81, 0.59]])\n",
    "\n",
    "X.T.dot(V)"
   ]
  },
  {
   "cell_type": "code",
   "execution_count": 28,
   "metadata": {},
   "outputs": [],
   "source": [
    "N = 100                 # количество особей в поколении\n",
    "AF = 0.9                # доля аллеля А\n",
    "GENERATIONS_NUM = 50    # количество поколений\n",
    "SAMLING_NUM = 10_000\n",
    "SEED = 42"
   ]
  },
  {
   "cell_type": "code",
   "execution_count": 41,
   "metadata": {},
   "outputs": [],
   "source": [
    "def generate_population(allele_freq):\n",
    "    return np.random.binomial(n=1, p=allele_freq, size=N)\n",
    "\n",
    "\n",
    "def fixation_event(num_individuals: int = 100,\n",
    "                   num_generations: int = 50,\n",
    "                   allele_frequency: float = 0.5\n",
    "                   ):\n",
    "\n",
    "    fixation_A_event = 0\n",
    "\n",
    "    population = generate_population(allele_frequency)\n",
    "\n",
    "    for generation_idx in range(1, num_generations):\n",
    "        freq_A = np.sum(population) / num_individuals\n",
    "\n",
    "        if np.sum(population) == num_individuals:\n",
    "            fixation_A_event = 1\n",
    "            break\n",
    "\n",
    "        # update population\n",
    "        population = generate_population(freq_A)\n",
    "    \n",
    "    return fixation_A_event\n",
    "\n",
    "def population_sampling(sampling_num: int = 10_000, \n",
    "                        num_individuals: int = 100, \n",
    "                        num_generations: int = 50, \n",
    "                        allele_frequency: float = 0.5):\n",
    "\n",
    "    fixation_events_num = 0\n",
    "\n",
    "    for _ in range(sampling_num):\n",
    "\n",
    "        fixation = fixation_event(num_individuals=num_individuals,\n",
    "                           num_generations=num_generations,\n",
    "                           allele_frequency=allele_frequency)\n",
    "        fixation_events_num += fixation\n",
    "    \n",
    "    return fixation_events_num / sampling_num\n",
    "    "
   ]
  },
  {
   "cell_type": "code",
   "execution_count": 42,
   "metadata": {},
   "outputs": [
    {
     "data": {
      "text/plain": [
       "0.651"
      ]
     },
     "execution_count": 42,
     "metadata": {},
     "output_type": "execute_result"
    }
   ],
   "source": [
    "np.random.seed(SEED)\n",
    "\n",
    "population_sampling(sampling_num=SAMLING_NUM, \n",
    "                    num_individuals=N, \n",
    "                    num_generations=GENERATIONS_NUM, \n",
    "                    allele_frequency=AF\n",
    "                    )"
   ]
  },
  {
   "cell_type": "code",
   "execution_count": 45,
   "metadata": {},
   "outputs": [
    {
     "name": "stderr",
     "output_type": "stream",
     "text": [
      "100%|\u001b[36m██████████\u001b[0m| 100/100 [10:36<00:00,  6.36s/it]\n"
     ]
    }
   ],
   "source": [
    "generations = np.linspace(10, 1_000, 100)\n",
    "fixation_frequencies = []\n",
    "\n",
    "for generation_count in tqdm(generations, colour=\"CYAN\"):\n",
    "\n",
    "    fixation_freq = population_sampling(sampling_num=SAMLING_NUM,\n",
    "                                        num_individuals=N, \n",
    "                                        num_generations=int(generation_count), \n",
    "                                        allele_frequency=AF)\n",
    "\n",
    "    fixation_frequencies.append(fixation_freq)"
   ]
  },
  {
   "cell_type": "code",
   "execution_count": 46,
   "metadata": {},
   "outputs": [
    {
     "data": {
      "text/plain": [
       "Text(0, 0.5, 'Fixation of A frequency')"
      ]
     },
     "execution_count": 46,
     "metadata": {},
     "output_type": "execute_result"
    },
    {
     "data": {
      "image/png": "[encoded data removed]",
      "text/plain": [
       "<Figure size 640x480 with 1 Axes>"
      ]
     },
     "metadata": {},
     "output_type": "display_data"
    }
   ],
   "source": [
    "plt.scatter(generations, fixation_frequencies)\n",
    "plt.xlabel('Generations num')\n",
    "plt.ylabel('Fixation of A frequency')"
   ]
  },
  {
   "cell_type": "code",
   "execution_count": 47,
   "metadata": {},
   "outputs": [
    {
     "ename": "TypeError",
     "evalue": "'float' object cannot be interpreted as an integer",
     "output_type": "error",
     "traceback": [
      "\u001b[0;31m---------------------------------------------------------------------------\u001b[0m",
      "\u001b[0;31mTypeError\u001b[0m                                 Traceback (most recent call last)",
      "Cell \u001b[0;32mIn[47], line 1\u001b[0m\n\u001b[0;32m----> 1\u001b[0m allele_frequencies \u001b[38;5;241m=\u001b[39m \u001b[43mnp\u001b[49m\u001b[38;5;241;43m.\u001b[39;49m\u001b[43mlinspace\u001b[49m\u001b[43m(\u001b[49m\u001b[38;5;241;43m0.0\u001b[39;49m\u001b[43m,\u001b[49m\u001b[43m \u001b[49m\u001b[38;5;241;43m1.0\u001b[39;49m\u001b[43m,\u001b[49m\u001b[43m \u001b[49m\u001b[38;5;241;43m0.05\u001b[39;49m\u001b[43m)\u001b[49m\n\u001b[1;32m      2\u001b[0m fixation_frequencies \u001b[38;5;241m=\u001b[39m []\n\u001b[1;32m      4\u001b[0m \u001b[38;5;28;01mfor\u001b[39;00m af \u001b[38;5;129;01min\u001b[39;00m tqdm(generations, colour\u001b[38;5;241m=\u001b[39m\u001b[38;5;124m\"\u001b[39m\u001b[38;5;124mCYAN\u001b[39m\u001b[38;5;124m\"\u001b[39m):\n",
      "File \u001b[0;32m~/miniconda3/lib/python3.10/site-packages/numpy/core/function_base.py:122\u001b[0m, in \u001b[0;36mlinspace\u001b[0;34m(start, stop, num, endpoint, retstep, dtype, axis)\u001b[0m\n\u001b[1;32m     24\u001b[0m \u001b[38;5;129m@array_function_dispatch\u001b[39m(_linspace_dispatcher)\n\u001b[1;32m     25\u001b[0m \u001b[38;5;28;01mdef\u001b[39;00m \u001b[38;5;21mlinspace\u001b[39m(start, stop, num\u001b[38;5;241m=\u001b[39m\u001b[38;5;241m50\u001b[39m, endpoint\u001b[38;5;241m=\u001b[39m\u001b[38;5;28;01mTrue\u001b[39;00m, retstep\u001b[38;5;241m=\u001b[39m\u001b[38;5;28;01mFalse\u001b[39;00m, dtype\u001b[38;5;241m=\u001b[39m\u001b[38;5;28;01mNone\u001b[39;00m,\n\u001b[1;32m     26\u001b[0m              axis\u001b[38;5;241m=\u001b[39m\u001b[38;5;241m0\u001b[39m):\n\u001b[1;32m     27\u001b[0m \u001b[38;5;250m    \u001b[39m\u001b[38;5;124;03m\"\"\"\u001b[39;00m\n\u001b[1;32m     28\u001b[0m \u001b[38;5;124;03m    Return evenly spaced numbers over a specified interval.\u001b[39;00m\n\u001b[1;32m     29\u001b[0m \n\u001b[0;32m   (...)\u001b[0m\n\u001b[1;32m    120\u001b[0m \n\u001b[1;32m    121\u001b[0m \u001b[38;5;124;03m    \"\"\"\u001b[39;00m\n\u001b[0;32m--> 122\u001b[0m     num \u001b[38;5;241m=\u001b[39m \u001b[43moperator\u001b[49m\u001b[38;5;241;43m.\u001b[39;49m\u001b[43mindex\u001b[49m\u001b[43m(\u001b[49m\u001b[43mnum\u001b[49m\u001b[43m)\u001b[49m\n\u001b[1;32m    123\u001b[0m     \u001b[38;5;28;01mif\u001b[39;00m num \u001b[38;5;241m<\u001b[39m \u001b[38;5;241m0\u001b[39m:\n\u001b[1;32m    124\u001b[0m         \u001b[38;5;28;01mraise\u001b[39;00m \u001b[38;5;167;01mValueError\u001b[39;00m(\u001b[38;5;124m\"\u001b[39m\u001b[38;5;124mNumber of samples, \u001b[39m\u001b[38;5;132;01m%s\u001b[39;00m\u001b[38;5;124m, must be non-negative.\u001b[39m\u001b[38;5;124m\"\u001b[39m \u001b[38;5;241m%\u001b[39m num)\n",
      "\u001b[0;31mTypeError\u001b[0m: 'float' object cannot be interpreted as an integer"
     ]
    }
   ],
   "source": [
    "allele_frequencies = np.linspace(0.0, 1.0, 0.05)\n",
    "fixation_frequencies = []\n",
    "\n",
    "for af in tqdm(generations, colour=\"CYAN\"):\n",
    "\n",
    "    fixation_freq = population_sampling(sampling_num=SAMLING_NUM,\n",
    "                                        num_individuals=N, \n",
    "                                        num_generations=GENERATIONS_NUM, \n",
    "                                        allele_frequency=af)\n",
    "\n",
    "    fixation_frequencies.append(fixation_freq)"
   ]
  },
  {
   "cell_type": "code",
   "execution_count": null,
   "metadata": {},
   "outputs": [],
   "source": [
    "plt.scatter(allele_frequencies, fixation_frequencies)\n",
    "plt.xlabel('AF')\n",
    "plt.ylabel('Fixation of A frequency')"
   ]
  },
  {
   "cell_type": "code",
   "execution_count": null,
   "metadata": {},
   "outputs": [],
   "source": []
  }
 ],
 "metadata": {
  "kernelspec": {
   "display_name": "base",
   "language": "python",
   "name": "python3"
  },
  "language_info": {
   "codemirror_mode": {
    "name": "ipython",
    "version": 3
   },
   "file_extension": ".py",
   "mimetype": "text/x-python",
   "name": "python",
   "nbconvert_exporter": "python",
   "pygments_lexer": "ipython3",
   "version": "3.10.15"
  }
 },
 "nbformat": 4,
 "nbformat_minor": 2
}
